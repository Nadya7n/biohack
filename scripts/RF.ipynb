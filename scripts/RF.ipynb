{
 "cells": [
  {
   "cell_type": "code",
   "execution_count": 106,
   "id": "1e599961-9dd0-421d-9373-8251ed810479",
   "metadata": {},
   "outputs": [],
   "source": [
    "from scipy.stats import spearmanr\n",
    "import pandas as pd\n",
    "import numpy as np\n",
    "from sklearn.model_selection import train_test_split\n",
    "from sklearn.ensemble import RandomForestRegressor, GradientBoostingRegressor\n",
    "from sklearn.svm import SVR\n",
    "from sklearn.metrics import mean_squared_error\n",
    "from catboost import CatBoostRegressor"
   ]
  },
  {
   "cell_type": "code",
   "execution_count": 107,
   "id": "111dec1b-061a-4685-94ee-93f3595c873c",
   "metadata": {},
   "outputs": [],
   "source": [
    "train_mult = pd.read_csv('train_dataset_multiple.csv', header = None)\n",
    "train_sing = pd.read_csv('single_train.csv', header = None)\n",
    "test_sing = pd.read_csv('single_test.csv', header = None)\n",
    "test_mult = pd.read_csv('./multiple_test.csv', header = None)\n",
    "\n",
    "train_embedings = pd.read_csv('embedings_tensors_train.txt', header = None)"
   ]
  },
  {
   "cell_type": "code",
   "execution_count": 103,
   "id": "ad179d88-c463-4607-a87e-39aad2566e7c",
   "metadata": {},
   "outputs": [],
   "source": [
    "lens = []\n",
    "for row in train_embedings.transpose().iterrows():\n",
    "    lens.append(len(set(row[1])))"
   ]
  },
  {
   "cell_type": "code",
   "execution_count": 105,
   "id": "dca88667-05c8-44c3-b967-66cd9b6bd78a",
   "metadata": {},
   "outputs": [
    {
     "data": {
      "text/plain": [
       "[5, 2, 6, 3, 6, 2, 6, 5]"
      ]
     },
     "execution_count": 105,
     "metadata": {},
     "output_type": "execute_result"
    }
   ],
   "source": [
    "[i for i in lens if i != 1]"
   ]
  },
  {
   "cell_type": "code",
   "execution_count": 108,
   "id": "8945d887-8bf8-4d3d-9f78-e6e10e303b67",
   "metadata": {},
   "outputs": [],
   "source": [
    "# Separate features (X) and target (y)\n",
    "X = train_embedings.to_numpy()\n",
    "y = train_sing.iloc[:,2].to_numpy()"
   ]
  },
  {
   "cell_type": "code",
   "execution_count": 109,
   "id": "ad3c281a-505f-404f-8fb7-a2594f0ffead",
   "metadata": {},
   "outputs": [],
   "source": [
    "idx = np.argwhere(np.all(X[..., :] == 0, axis=0))\n"
   ]
  },
  {
   "cell_type": "code",
   "execution_count": 110,
   "id": "c5101b4e-9325-4f45-bf15-7a5767994520",
   "metadata": {},
   "outputs": [],
   "source": [
    "X_del = np.delete(X, idx, axis = 1)"
   ]
  },
  {
   "cell_type": "code",
   "execution_count": 120,
   "id": "fcee4a96-927e-4621-be57-3fdd0a3a8287",
   "metadata": {},
   "outputs": [
    {
     "data": {
      "text/plain": [
       "(8539, 2560)"
      ]
     },
     "execution_count": 120,
     "metadata": {},
     "output_type": "execute_result"
    }
   ],
   "source": [
    "X.shape"
   ]
  },
  {
   "cell_type": "code",
   "execution_count": 45,
   "id": "67109eb1-1b3b-4bb2-93c6-39db756bd19d",
   "metadata": {},
   "outputs": [],
   "source": [
    "mask_list = []\n",
    "for row in train_mult.iloc[:,0:2].iterrows():\n",
    "    seq1 = row[1][0]\n",
    "    seq2 = row[1][1]\n",
    "    mask = [seq1[i] == seq2[i] for i in range(1, len(seq1))]\n",
    "    mask_list.append(sum(mask))"
   ]
  },
  {
   "cell_type": "code",
   "execution_count": 119,
   "id": "be648adf-2e97-4d36-af33-bfbfa44ab479",
   "metadata": {},
   "outputs": [
    {
     "data": {
      "text/html": [
       "<div>\n",
       "<style scoped>\n",
       "    .dataframe tbody tr th:only-of-type {\n",
       "        vertical-align: middle;\n",
       "    }\n",
       "\n",
       "    .dataframe tbody tr th {\n",
       "        vertical-align: top;\n",
       "    }\n",
       "\n",
       "    .dataframe thead th {\n",
       "        text-align: right;\n",
       "    }\n",
       "</style>\n",
       "<table border=\"1\" class=\"dataframe\">\n",
       "  <thead>\n",
       "    <tr style=\"text-align: right;\">\n",
       "      <th></th>\n",
       "      <th>0</th>\n",
       "      <th>1</th>\n",
       "      <th>2</th>\n",
       "      <th>3</th>\n",
       "    </tr>\n",
       "  </thead>\n",
       "  <tbody>\n",
       "    <tr>\n",
       "      <th>204</th>\n",
       "      <td>GSVETRSNGQTYTFRSPEEAREWAEKYGVQTWRTENGRVESRP</td>\n",
       "      <td>GSSWYNTGNPFAEEKEEVARSRTSYVPTTREETVRQRQWRGEG</td>\n",
       "      <td>0.14</td>\n",
       "      <td>2_3_4_5_6_7_8_9_10_11_12_13_14_15_16_17_18_19_...</td>\n",
       "    </tr>\n",
       "    <tr>\n",
       "      <th>212</th>\n",
       "      <td>GSPELHVGNYTVTGNDEEAKKKAKKTFGPRRYTEDGETIQFQP</td>\n",
       "      <td>GSGRENPFEAVKQFKPQALYYEGETIKTVTKKETTPGDNGDRH</td>\n",
       "      <td>0.11</td>\n",
       "      <td>2_3_4_5_6_7_8_9_10_11_12_13_14_15_16_17_18_19_...</td>\n",
       "    </tr>\n",
       "    <tr>\n",
       "      <th>281</th>\n",
       "      <td>GSVKLEENGQTYTFRTTEEAQRWAKKNGARELKSENGRVESRF</td>\n",
       "      <td>GSGSTKFETGWNKNSRVFTREAENREGQQLAETKAERERVKYL</td>\n",
       "      <td>0.24</td>\n",
       "      <td>2_3_4_5_6_7_8_9_10_11_12_13_14_15_16_17_18_19_...</td>\n",
       "    </tr>\n",
       "    <tr>\n",
       "      <th>288</th>\n",
       "      <td>GSPELNVRGKTYDAGSEENAERQARKEGAQRITSDGNQVTVQV</td>\n",
       "      <td>GSVPQTAEQGVGENVDQSEYAERTSNLRVRATGNRIGEQADKK</td>\n",
       "      <td>0.28</td>\n",
       "      <td>2_3_4_5_6_7_8_9_10_11_12_13_14_15_16_17_18_19_...</td>\n",
       "    </tr>\n",
       "    <tr>\n",
       "      <th>318</th>\n",
       "      <td>GSPEITSNNRTHTTDNPDKWAKEEAKKKGKTVKNENGEVKERG</td>\n",
       "      <td>GSIWEENTTDGTPKKESVEPNAKTKAHEEGVGRKKKNNRDNTK</td>\n",
       "      <td>0.35</td>\n",
       "      <td>2_3_4_5_6_7_8_9_10_11_12_13_14_15_16_17_18_19_...</td>\n",
       "    </tr>\n",
       "    <tr>\n",
       "      <th>...</th>\n",
       "      <td>...</td>\n",
       "      <td>...</td>\n",
       "      <td>...</td>\n",
       "      <td>...</td>\n",
       "    </tr>\n",
       "    <tr>\n",
       "      <th>14208</th>\n",
       "      <td>SDESEKLSELARRLGLDEDQARTAKKLFSENPEKAKRYIKKAK</td>\n",
       "      <td>LAKLRLGKDKENFPSRAELKEAQSISKTKREKDAYAESDLEKR</td>\n",
       "      <td>0.54</td>\n",
       "      <td>0_1_2_3_4_5_6_7_8_9_10_11_12_13_14_15_16_18_19...</td>\n",
       "    </tr>\n",
       "    <tr>\n",
       "      <th>14214</th>\n",
       "      <td>NEDEKKAKELEKRANGDTEKAKRLARKLGNERVERLIEKRQRK</td>\n",
       "      <td>NRRALREQREKAKEILKKRELRLEAEDTEDKGRKKVNNGKKAE</td>\n",
       "      <td>0.05</td>\n",
       "      <td>1_2_3_4_5_6_7_8_9_10_11_12_13_14_15_16_17_18_1...</td>\n",
       "    </tr>\n",
       "    <tr>\n",
       "      <th>14296</th>\n",
       "      <td>TTKDELRKVLKKLYGVSSEIAERIIRKYNSEQAEKDKRQLEKG</td>\n",
       "      <td>TKTVKEKKGQNLRSLGKDYVKRDRQKEEKEIAEIYLRLSIAES</td>\n",
       "      <td>0.55</td>\n",
       "      <td>1_2_3_4_5_6_8_9_10_11_12_13_14_15_16_17_18_19_...</td>\n",
       "    </tr>\n",
       "    <tr>\n",
       "      <th>14355</th>\n",
       "      <td>SDEAKKRAEELRKRGYSEDQIEKWARDQNNEDAREYLERQRKN</td>\n",
       "      <td>WAYQKRYRRNDEDEEEDLRAEQENKNKEAIGEQKLDRASRKRS</td>\n",
       "      <td>-0.08</td>\n",
       "      <td>0_1_2_3_5_6_7_8_9_10_11_12_13_14_15_16_17_18_1...</td>\n",
       "    </tr>\n",
       "    <tr>\n",
       "      <th>14542</th>\n",
       "      <td>REEEKKTQKELKNRGQTTELLRVELEARGYSPEQAEREARKLK</td>\n",
       "      <td>AQRKVRLEPLTSQEKRRKQEAEELGTKYKEREENERELKGLTA</td>\n",
       "      <td>-0.38</td>\n",
       "      <td>0_1_2_3_4_5_6_7_8_9_10_11_12_13_14_15_16_17_18...</td>\n",
       "    </tr>\n",
       "  </tbody>\n",
       "</table>\n",
       "<p>70 rows × 4 columns</p>\n",
       "</div>"
      ],
      "text/plain": [
       "                                                 0  \\\n",
       "204    GSVETRSNGQTYTFRSPEEAREWAEKYGVQTWRTENGRVESRP   \n",
       "212    GSPELHVGNYTVTGNDEEAKKKAKKTFGPRRYTEDGETIQFQP   \n",
       "281    GSVKLEENGQTYTFRTTEEAQRWAKKNGARELKSENGRVESRF   \n",
       "288    GSPELNVRGKTYDAGSEENAERQARKEGAQRITSDGNQVTVQV   \n",
       "318    GSPEITSNNRTHTTDNPDKWAKEEAKKKGKTVKNENGEVKERG   \n",
       "...                                            ...   \n",
       "14208  SDESEKLSELARRLGLDEDQARTAKKLFSENPEKAKRYIKKAK   \n",
       "14214  NEDEKKAKELEKRANGDTEKAKRLARKLGNERVERLIEKRQRK   \n",
       "14296  TTKDELRKVLKKLYGVSSEIAERIIRKYNSEQAEKDKRQLEKG   \n",
       "14355  SDEAKKRAEELRKRGYSEDQIEKWARDQNNEDAREYLERQRKN   \n",
       "14542  REEEKKTQKELKNRGQTTELLRVELEARGYSPEQAEREARKLK   \n",
       "\n",
       "                                                 1     2  \\\n",
       "204    GSSWYNTGNPFAEEKEEVARSRTSYVPTTREETVRQRQWRGEG  0.14   \n",
       "212    GSGRENPFEAVKQFKPQALYYEGETIKTVTKKETTPGDNGDRH  0.11   \n",
       "281    GSGSTKFETGWNKNSRVFTREAENREGQQLAETKAERERVKYL  0.24   \n",
       "288    GSVPQTAEQGVGENVDQSEYAERTSNLRVRATGNRIGEQADKK  0.28   \n",
       "318    GSIWEENTTDGTPKKESVEPNAKTKAHEEGVGRKKKNNRDNTK  0.35   \n",
       "...                                            ...   ...   \n",
       "14208  LAKLRLGKDKENFPSRAELKEAQSISKTKREKDAYAESDLEKR  0.54   \n",
       "14214  NRRALREQREKAKEILKKRELRLEAEDTEDKGRKKVNNGKKAE  0.05   \n",
       "14296  TKTVKEKKGQNLRSLGKDYVKRDRQKEEKEIAEIYLRLSIAES  0.55   \n",
       "14355  WAYQKRYRRNDEDEEEDLRAEQENKNKEAIGEQKLDRASRKRS -0.08   \n",
       "14542  AQRKVRLEPLTSQEKRRKQEAEELGTKYKEREENERELKGLTA -0.38   \n",
       "\n",
       "                                                       3  \n",
       "204    2_3_4_5_6_7_8_9_10_11_12_13_14_15_16_17_18_19_...  \n",
       "212    2_3_4_5_6_7_8_9_10_11_12_13_14_15_16_17_18_19_...  \n",
       "281    2_3_4_5_6_7_8_9_10_11_12_13_14_15_16_17_18_19_...  \n",
       "288    2_3_4_5_6_7_8_9_10_11_12_13_14_15_16_17_18_19_...  \n",
       "318    2_3_4_5_6_7_8_9_10_11_12_13_14_15_16_17_18_19_...  \n",
       "...                                                  ...  \n",
       "14208  0_1_2_3_4_5_6_7_8_9_10_11_12_13_14_15_16_18_19...  \n",
       "14214  1_2_3_4_5_6_7_8_9_10_11_12_13_14_15_16_17_18_1...  \n",
       "14296  1_2_3_4_5_6_8_9_10_11_12_13_14_15_16_17_18_19_...  \n",
       "14355  0_1_2_3_5_6_7_8_9_10_11_12_13_14_15_16_17_18_1...  \n",
       "14542  0_1_2_3_4_5_6_7_8_9_10_11_12_13_14_15_16_17_18...  \n",
       "\n",
       "[70 rows x 4 columns]"
      ]
     },
     "execution_count": 119,
     "metadata": {},
     "output_type": "execute_result"
    }
   ],
   "source": [
    "mask = [i == 1 for i in mask_list]\n",
    "train_mult.iloc[mask,:] #[i == 41 for i in mask_list]"
   ]
  },
  {
   "cell_type": "code",
   "execution_count": 113,
   "id": "feaf77be-8f54-47fb-9a97-c2ceb7f4c6b5",
   "metadata": {},
   "outputs": [],
   "source": [
    "X_train, X_test, y_train, y_test = train_test_split(X_del, y, test_size=0.1, random_state=42)"
   ]
  },
  {
   "cell_type": "code",
   "execution_count": 114,
   "id": "016326bb-e227-41bd-ba94-cb43736fc344",
   "metadata": {},
   "outputs": [
    {
     "name": "stdout",
     "output_type": "stream",
     "text": [
      "Spearman: SignificanceResult(statistic=0.04337538918361097, pvalue=0.205401946001942)\n"
     ]
    }
   ],
   "source": [
    "# Initialize the Random Forest Regressor\n",
    "rf_model = RandomForestRegressor(n_estimators=1000, random_state=42)\n",
    "\n",
    "# Train the model\n",
    "rf_model.fit(X_train, y_train)\n",
    "\n",
    "# Make predictions on the test set\n",
    "y_rf_pred = rf_model.predict(X_test)\n",
    "\n",
    "# Calculate Spearman\n",
    "spearm_rf = spearmanr(y_test, y_rf_pred)\n",
    "print(f\"Spearman: {spearm_rf}\")"
   ]
  },
  {
   "cell_type": "code",
   "execution_count": 115,
   "id": "b4495d3f-4b96-433e-9669-3346f33d74f2",
   "metadata": {},
   "outputs": [
    {
     "name": "stdout",
     "output_type": "stream",
     "text": [
      "Spearman: SignificanceResult(statistic=0.042883123701136845, pvalue=0.2105968791572273)\n"
     ]
    }
   ],
   "source": [
    "# GradientBoostingRegressor\n",
    "gb_model = GradientBoostingRegressor(n_estimators=100, random_state=42)\n",
    "gb_model.fit(X_train, y_train)\n",
    "\n",
    "y_gb_pred = gb_model.predict(X_test)\n",
    "\n",
    "# Calculate Spearman\n",
    "spearm_gb = spearmanr(y_test, y_gb_pred)\n",
    "print(f\"Spearman: {spearm_gb}\")"
   ]
  },
  {
   "cell_type": "code",
   "execution_count": 116,
   "id": "953226f6-f2ac-414f-a509-0c2bb8ccfdf4",
   "metadata": {},
   "outputs": [
    {
     "name": "stdout",
     "output_type": "stream",
     "text": [
      "Spearman: SignificanceResult(statistic=0.04257535046711635, pvalue=0.21389268040730808)\n"
     ]
    }
   ],
   "source": [
    "# SVR (Support Vector Regressor)\n",
    "svr_model = SVR(kernel='linear')  # You can experiment with different kernels\n",
    "svr_model.fit(X_train, y_train)\n",
    "\n",
    "y_svr_pred = svr_model.predict(X_test)\n",
    "# Calculate Spearman\n",
    "spearm_svr = spearmanr(y_test, y_svr_pred)\n",
    "print(f\"Spearman: {spearm_svr}\")"
   ]
  },
  {
   "cell_type": "code",
   "execution_count": 121,
   "id": "3796f74c-e785-4332-bb56-17753a3e1514",
   "metadata": {},
   "outputs": [
    {
     "name": "stdout",
     "output_type": "stream",
     "text": [
      "Spearman: SignificanceResult(statistic=0.04186155120538809, pvalue=0.22167900857239006)\n"
     ]
    }
   ],
   "source": [
    "# CatBoostRegressor\n",
    "catboost_model = CatBoostRegressor(iterations=10000, random_state=42, verbose=0)\n",
    "catboost_model.fit(X_train, y_train)\n",
    "\n",
    "y_catboost_pred = catboost_model.predict(X_test)\n",
    "# Calculate Spearman\n",
    "spearm_cb = spearmanr(y_test, y_catboost_pred)\n",
    "print(f\"Spearman: {spearm_cb}\")"
   ]
  },
  {
   "cell_type": "code",
   "execution_count": null,
   "id": "51d18da0-bdcd-415f-a2ca-45175f923aaf",
   "metadata": {},
   "outputs": [],
   "source": []
  }
 ],
 "metadata": {
  "kernelspec": {
   "display_name": "Python 3 (ipykernel)",
   "language": "python",
   "name": "python3"
  },
  "language_info": {
   "codemirror_mode": {
    "name": "ipython",
    "version": 3
   },
   "file_extension": ".py",
   "mimetype": "text/x-python",
   "name": "python",
   "nbconvert_exporter": "python",
   "pygments_lexer": "ipython3",
   "version": "3.8.10"
  }
 },
 "nbformat": 4,
 "nbformat_minor": 5
}
