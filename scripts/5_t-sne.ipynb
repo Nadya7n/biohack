{
 "cells": [
  {
   "cell_type": "code",
   "execution_count": null,
   "id": "b7c676a2-06ea-475b-b95f-3e2c439a103d",
   "metadata": {},
   "outputs": [],
   "source": [
    "with open(\"./single_train.csv\") as fh:\n",
    "    scores = [row.strip().split(\",\")[2] for row in fh.readlines()]\n",
    "# find median\n",
    "print(sorted(scores)[int(8539/2+1)])\n",
    "            "
   ]
  },
  {
   "cell_type": "code",
   "execution_count": null,
   "id": "92312935-66ae-43a4-853c-155e51686151",
   "metadata": {},
   "outputs": [],
   "source": [
    "# median stability_score = 0.15999999999999992\n",
    "# max 1.73\n",
    "# min -0.009999999999999787"
   ]
  },
  {
   "cell_type": "code",
   "execution_count": 23,
   "id": "6afdbd80-ec06-4e3c-90a0-488bb20250c2",
   "metadata": {},
   "outputs": [],
   "source": [
    "above_0_16_tensors = []\n",
    "below_0_16_tensors = []\n",
    "\n",
    "with open(\"./embedings_tensors_train.txt\") as fh_2:\n",
    "    all_tensors = [line.strip() for line in fh_2.readlines()]\n",
    "\n",
    "for idx in range(len(all_tensors)):\n",
    "    if float(scores[idx]) > 0.16:\n",
    "        above_0_16_tensors.append(all_tensors[idx].split(\",\"))\n",
    "    else:\n",
    "        below_0_16_tensors.append(all_tensors[idx].split(\",\"))\n",
    "            "
   ]
  },
  {
   "cell_type": "code",
   "execution_count": null,
   "id": "1dc89da8-dc41-4557-af0d-c68084048f80",
   "metadata": {},
   "outputs": [],
   "source": [
    "import matplotlib.pyplot as plt\n",
    "from sklearn.manifold import TSNE\n",
    "\n",
    "# X1 и X2 - ваши два датасета размерности (количество_векторов, размерность)\n",
    "X1 = np.array(above_0_16_tensors)\n",
    "X2 = np.array(below_0_16_tensors)\n",
    "\n",
    "# Применяем t-SNE для снижения размерности до 2 для обоих датасетов\n",
    "tsne = TSNE(n_components=2)\n",
    "X1_2d = tsne.fit_transform(X1)\n",
    "X2_2d = tsne.fit_transform(X2)\n",
    "\n",
    "# Построение графика\n",
    "plt.scatter(X1_2d[:, 0], X1_2d[:, 1], label='Stability score more than 0.16')\n",
    "plt.scatter(X2_2d[:, 0], X2_2d[:, 1], label='Stability score less than 0.16')\n",
    "plt.xlabel('t-SNE 1')\n",
    "plt.ylabel('t-SNE 2')\n",
    "plt.title('t-SNE Projection of Two Datasets')\n",
    "plt.legend()\n",
    "plt.show()"
   ]
  }
 ],
 "metadata": {
  "kernelspec": {
   "display_name": "Python 3 (ipykernel)",
   "language": "python",
   "name": "python3"
  },
  "language_info": {
   "codemirror_mode": {
    "name": "ipython",
    "version": 3
   },
   "file_extension": ".py",
   "mimetype": "text/x-python",
   "name": "python",
   "nbconvert_exporter": "python",
   "pygments_lexer": "ipython3",
   "version": "3.8.10"
  }
 },
 "nbformat": 4,
 "nbformat_minor": 5
}
