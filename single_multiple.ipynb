{
 "cells": [
  {
   "cell_type": "code",
   "execution_count": 61,
   "metadata": {},
   "outputs": [],
   "source": [
    "import pandas as pd\n",
    "import os\n",
    "import torch\n",
    "from torch.utils.data import Dataset, DataLoader\n",
    "import numpy as np\n",
    "import torch.nn.functional as F\n",
    "from torch import nn\n",
    "from sklearn.model_selection import train_test_split\n",
    "from tqdm import tqdm\n",
    "import gc\n",
    "from scipy import stats"
   ]
  },
  {
   "cell_type": "code",
   "execution_count": 2,
   "metadata": {},
   "outputs": [],
   "source": [
    "# !pip install fair-esm"
   ]
  },
  {
   "cell_type": "code",
   "execution_count": 64,
   "metadata": {},
   "outputs": [],
   "source": [
    "single = pd.read_csv(\"single_train.csv\", header=None)\n",
    "#multiple = pd.read_csv(\"train_dataset_multiple.csv\", header=None)"
   ]
  },
  {
   "cell_type": "code",
   "execution_count": 36,
   "metadata": {},
   "outputs": [],
   "source": [
    "def process_change(item):\n",
    "    length = item.count('_')\n",
    "    condition = length == 0\n",
    "    return condition\n",
    "    "
   ]
  },
  {
   "cell_type": "code",
   "execution_count": 39,
   "metadata": {},
   "outputs": [],
   "source": [
    "#subset_multiple = multiple[multiple[3].apply(lambda x: process_change(x))]\n",
    "#data = pd.concat([single, subset_multiple])"
   ]
  },
  {
   "cell_type": "code",
   "execution_count": 65,
   "metadata": {},
   "outputs": [],
   "source": [
    "single.columns = [\"wt\", \"mut\", \"score\", \"pos\"]"
   ]
  },
  {
   "cell_type": "code",
   "execution_count": 66,
   "metadata": {},
   "outputs": [],
   "source": [
    "import esm"
   ]
  },
  {
   "cell_type": "code",
   "execution_count": 67,
   "metadata": {},
   "outputs": [],
   "source": [
    "device = torch.device('cuda' if torch.cuda.is_available() else 'cpu')"
   ]
  },
  {
   "cell_type": "code",
   "execution_count": 74,
   "metadata": {},
   "outputs": [],
   "source": [
    "SEED = 42\n",
    "TRAIN_SIZE = 7000"
   ]
  },
  {
   "cell_type": "code",
   "execution_count": 75,
   "metadata": {},
   "outputs": [],
   "source": [
    "data = single.sample(frac=1.0, random_state=SEED)"
   ]
  },
  {
   "cell_type": "code",
   "execution_count": 76,
   "metadata": {},
   "outputs": [
    {
     "data": {
      "text/html": [
       "<div>\n",
       "<style scoped>\n",
       "    .dataframe tbody tr th:only-of-type {\n",
       "        vertical-align: middle;\n",
       "    }\n",
       "\n",
       "    .dataframe tbody tr th {\n",
       "        vertical-align: top;\n",
       "    }\n",
       "\n",
       "    .dataframe thead th {\n",
       "        text-align: right;\n",
       "    }\n",
       "</style>\n",
       "<table border=\"1\" class=\"dataframe\">\n",
       "  <thead>\n",
       "    <tr style=\"text-align: right;\">\n",
       "      <th></th>\n",
       "      <th>wt</th>\n",
       "      <th>mut</th>\n",
       "      <th>score</th>\n",
       "      <th>pos</th>\n",
       "    </tr>\n",
       "  </thead>\n",
       "  <tbody>\n",
       "    <tr>\n",
       "      <th>6021</th>\n",
       "      <td>GSSKTQYEYDTKEEAQKAYEKFKKQGIPVTITQKNGKWFVQVE</td>\n",
       "      <td>GSSKTQYEEDTKEEAQKAYEKFKKQGIPVTITQKNGKWFVQVE</td>\n",
       "      <td>0.41</td>\n",
       "      <td>6</td>\n",
       "    </tr>\n",
       "    <tr>\n",
       "      <th>2127</th>\n",
       "      <td>TTIKVNGQEYTVPLSPEQAAKAAKKRWPDYEVQIHGNTVKVTR</td>\n",
       "      <td>TTIKVNGQEYTVPLSPEQAAKAAKKRWPDYEVQIHGSTVKVTR</td>\n",
       "      <td>0.02</td>\n",
       "      <td>37</td>\n",
       "    </tr>\n",
       "    <tr>\n",
       "      <th>8473</th>\n",
       "      <td>RKWEEIAERLREEFNINPEEAREAVEKAGGNEEEARRIVKKRL</td>\n",
       "      <td>RKWEEIAERLREEFNINPEEAREAVEKAGGNEEEARRIVKKVL</td>\n",
       "      <td>0.29</td>\n",
       "      <td>42</td>\n",
       "    </tr>\n",
       "    <tr>\n",
       "      <th>6191</th>\n",
       "      <td>TIDEIIKALEQAVKDNKPIQVGNYTVTSADEAEKLAKKLKKEY</td>\n",
       "      <td>TIDEIIKALEQAVKDNKPIQVGNYTVTSADEAEKLAKKLKKIY</td>\n",
       "      <td>0.15</td>\n",
       "      <td>42</td>\n",
       "    </tr>\n",
       "    <tr>\n",
       "      <th>5382</th>\n",
       "      <td>GSSTTRYRFTDEEEARRAAKEWARRGYQVHVTQNGTYWEVEVR</td>\n",
       "      <td>GSSTTRYRFTDEEEARRAAKEWARRGYQVHVTQNGTYWEVEGR</td>\n",
       "      <td>0.14</td>\n",
       "      <td>39</td>\n",
       "    </tr>\n",
       "    <tr>\n",
       "      <th>...</th>\n",
       "      <td>...</td>\n",
       "      <td>...</td>\n",
       "      <td>...</td>\n",
       "      <td>...</td>\n",
       "    </tr>\n",
       "    <tr>\n",
       "      <th>5734</th>\n",
       "      <td>GSSKTQYEYDTKEEAQKAYEKFKKQGIPVTITQKNGKWFVQVE</td>\n",
       "      <td>GSSKTQYEYDTKEEAQKAYEKFKSQGIPVTITQKNGKWFVQVE</td>\n",
       "      <td>0.28</td>\n",
       "      <td>21</td>\n",
       "    </tr>\n",
       "    <tr>\n",
       "      <th>5191</th>\n",
       "      <td>GSSTTRYRFTDEEEARRAAKEWARRGYQVHVTQNGTYWEVEVR</td>\n",
       "      <td>GSSTTRYRFTDEEEARSAAKEWARRGYQVHVTQNGTYWEVEVR</td>\n",
       "      <td>0.03</td>\n",
       "      <td>14</td>\n",
       "    </tr>\n",
       "    <tr>\n",
       "      <th>5390</th>\n",
       "      <td>GSSTTRYRFTDEEEARRAAKEWARRGYQVHVTQNGTYWEVEVR</td>\n",
       "      <td>GSSTTRYRFTDEEEARRAAKEWARRGYQVHVTQNGTYWEVESR</td>\n",
       "      <td>0.04</td>\n",
       "      <td>39</td>\n",
       "    </tr>\n",
       "    <tr>\n",
       "      <th>860</th>\n",
       "      <td>SKDEAQREAERAIRSGNKEEARRILEEAGYSPEQAERIIRKLG</td>\n",
       "      <td>SKDEAQREAERALRSGNKEEARRILEEAGYSPEQAERIIRKLG</td>\n",
       "      <td>0.23</td>\n",
       "      <td>13</td>\n",
       "    </tr>\n",
       "    <tr>\n",
       "      <th>7270</th>\n",
       "      <td>TWQDLVKIAEKALEKGEPITINGITVTTKEQAKQAIEYLKKAY</td>\n",
       "      <td>TWQDLVKIAEKHLEKGEPITINGITVTTKEQAKQAIEYLKKAY</td>\n",
       "      <td>0.05</td>\n",
       "      <td>12</td>\n",
       "    </tr>\n",
       "  </tbody>\n",
       "</table>\n",
       "<p>8539 rows × 4 columns</p>\n",
       "</div>"
      ],
      "text/plain": [
       "                                               wt  \\\n",
       "6021  GSSKTQYEYDTKEEAQKAYEKFKKQGIPVTITQKNGKWFVQVE   \n",
       "2127  TTIKVNGQEYTVPLSPEQAAKAAKKRWPDYEVQIHGNTVKVTR   \n",
       "8473  RKWEEIAERLREEFNINPEEAREAVEKAGGNEEEARRIVKKRL   \n",
       "6191  TIDEIIKALEQAVKDNKPIQVGNYTVTSADEAEKLAKKLKKEY   \n",
       "5382  GSSTTRYRFTDEEEARRAAKEWARRGYQVHVTQNGTYWEVEVR   \n",
       "...                                           ...   \n",
       "5734  GSSKTQYEYDTKEEAQKAYEKFKKQGIPVTITQKNGKWFVQVE   \n",
       "5191  GSSTTRYRFTDEEEARRAAKEWARRGYQVHVTQNGTYWEVEVR   \n",
       "5390  GSSTTRYRFTDEEEARRAAKEWARRGYQVHVTQNGTYWEVEVR   \n",
       "860   SKDEAQREAERAIRSGNKEEARRILEEAGYSPEQAERIIRKLG   \n",
       "7270  TWQDLVKIAEKALEKGEPITINGITVTTKEQAKQAIEYLKKAY   \n",
       "\n",
       "                                              mut  score  pos  \n",
       "6021  GSSKTQYEEDTKEEAQKAYEKFKKQGIPVTITQKNGKWFVQVE   0.41    6  \n",
       "2127  TTIKVNGQEYTVPLSPEQAAKAAKKRWPDYEVQIHGSTVKVTR   0.02   37  \n",
       "8473  RKWEEIAERLREEFNINPEEAREAVEKAGGNEEEARRIVKKVL   0.29   42  \n",
       "6191  TIDEIIKALEQAVKDNKPIQVGNYTVTSADEAEKLAKKLKKIY   0.15   42  \n",
       "5382  GSSTTRYRFTDEEEARRAAKEWARRGYQVHVTQNGTYWEVEGR   0.14   39  \n",
       "...                                           ...    ...  ...  \n",
       "5734  GSSKTQYEYDTKEEAQKAYEKFKSQGIPVTITQKNGKWFVQVE   0.28   21  \n",
       "5191  GSSTTRYRFTDEEEARSAAKEWARRGYQVHVTQNGTYWEVEVR   0.03   14  \n",
       "5390  GSSTTRYRFTDEEEARRAAKEWARRGYQVHVTQNGTYWEVESR   0.04   39  \n",
       "860   SKDEAQREAERALRSGNKEEARRILEEAGYSPEQAERIIRKLG   0.23   13  \n",
       "7270  TWQDLVKIAEKHLEKGEPITINGITVTTKEQAKQAIEYLKKAY   0.05   12  \n",
       "\n",
       "[8539 rows x 4 columns]"
      ]
     },
     "execution_count": 76,
     "metadata": {},
     "output_type": "execute_result"
    }
   ],
   "source": [
    "data"
   ]
  },
  {
   "cell_type": "code",
   "execution_count": 77,
   "metadata": {},
   "outputs": [],
   "source": [
    "train_df = data.iloc[:TRAIN_SIZE, :]\n",
    "valid_df = data.iloc[TRAIN_SIZE:, :]"
   ]
  },
  {
   "cell_type": "code",
   "execution_count": 78,
   "metadata": {},
   "outputs": [],
   "source": [
    "train_df.index = np.arange(0, len(train_df))\n",
    "valid_df.index = np.arange(0, len(valid_df))"
   ]
  },
  {
   "cell_type": "code",
   "execution_count": 79,
   "metadata": {},
   "outputs": [],
   "source": [
    "class Protseq(Dataset):\n",
    "    def __init__(self, df):\n",
    "        self.df = df\n",
    "        _, esm1v_alphabet = esm.pretrained.esm2_t33_650M_UR50D()\n",
    "        self.esm1v_batch_converter = esm1v_alphabet.get_batch_converter()\n",
    "\n",
    "        \n",
    "    def __getitem__(self, idx):\n",
    "        _, _, wt = self.esm1v_batch_converter([('' , ''.join(self.df.loc[idx, \"wt\"]))])\n",
    "        _, _, mut = self.esm1v_batch_converter([('' , ''.join(self.df.loc[idx, \"mut\"]))])\n",
    "        pos = self.df.loc[idx, \"pos\"]\n",
    "        target = torch.FloatTensor([self.df.loc[idx, \"score\"]])\n",
    "        return wt, mut, target\n",
    "\n",
    "    \n",
    "    def __len__(self):\n",
    "        return len(self.df)"
   ]
  },
  {
   "cell_type": "code",
   "execution_count": 80,
   "metadata": {},
   "outputs": [],
   "source": [
    "BATCH_SIZE = 180"
   ]
  },
  {
   "cell_type": "code",
   "execution_count": 86,
   "metadata": {},
   "outputs": [],
   "source": [
    "train_ds = Protseq(train_df)\n",
    "valid_ds = Protseq(valid_df)"
   ]
  },
  {
   "cell_type": "code",
   "execution_count": 87,
   "metadata": {},
   "outputs": [],
   "source": [
    "train_dataloader = DataLoader(train_ds, batch_size=BATCH_SIZE, shuffle=True)\n",
    "valid_dataloader = DataLoader(valid_ds, batch_size=BATCH_SIZE, shuffle=False)"
   ]
  },
  {
   "cell_type": "code",
   "execution_count": 88,
   "metadata": {},
   "outputs": [],
   "source": [
    "HIDDEN_UNITS_POS_CONTACT = 5\n",
    "class ESM_sum_seqembed(nn.Module):\n",
    "    def __init__(self):\n",
    "        super().__init__()\n",
    "        self.esm2, _ = esm.pretrained.esm2_t33_650M_UR50D()\n",
    "        self.fc1 = nn.Linear(1280, HIDDEN_UNITS_POS_CONTACT)\n",
    "        self.fc2 = nn.Linear(HIDDEN_UNITS_POS_CONTACT, 1)\n",
    "    \n",
    "    \n",
    "    def _freeze_esm2_layers(self):\n",
    "        total_blocks = 33\n",
    "        initial_layers = 2\n",
    "        layers_per_block = 16\n",
    "        num_freeze_blocks = total_blocks - 3\n",
    "        for _, param in list(self.esm2.named_parameters())[\n",
    "            :initial_layers + layers_per_block * num_freeze_blocks]:\n",
    "            param.requires_grad = False\n",
    "            \n",
    "\n",
    "    def forward(self, wt_ids, mut_ids):\n",
    "        outputs1 = self.esm2.forward(wt_ids, repr_layers=[33])[\n",
    "            'representations'][33]\n",
    "        outputs2 = self.esm2.forward(mut_ids, repr_layers=[33])[\n",
    "            'representations'][33]\n",
    "        outputs1_mean = outputs1.mean(1)\n",
    "        outputs2_mean = outputs2.mean(1)\n",
    "        add = outputs1_mean + outputs2_mean\n",
    "        fc1_outputs = F.relu(self.fc1(add))\n",
    "        logits = self.fc2(fc1_outputs)\n",
    "        return logits"
   ]
  },
  {
   "cell_type": "code",
   "execution_count": 84,
   "metadata": {},
   "outputs": [],
   "source": [
    "def train_eval(train_dataloader, valid_dataloader, model, epochs):\n",
    "    for _ in range(epochs):\n",
    "        model.train()\n",
    "        tr_loss = 0\n",
    "        for batch in tqdm(train_dataloader):\n",
    "            wt_ids, mut_ids, labels = batch\n",
    "            wt_ids = wt_ids.squeeze(1).to(device)\n",
    "            mut_ids = mut_ids.squeeze(1).to(device)\n",
    "            labels = labels.to(device)\n",
    "            logits = model(wt_ids, mut_ids)\n",
    "            loss = torch.nn.functional.mse_loss(logits, labels)\n",
    "            tr_loss += loss.item()\n",
    "        \n",
    "            torch.nn.utils.clip_grad_norm_(\n",
    "            parameters=model.parameters(), max_norm=0.1\n",
    "            )\n",
    "            optimizer.zero_grad()\n",
    "            loss.backward()\n",
    "            optimizer.step()\n",
    "\n",
    "        tr_loss = tr_loss / len(train_dataloader)\n",
    "        print(f\"Training loss epoch: {tr_loss}\")\n",
    "        \n",
    "        model.eval()\n",
    "        valid_loss = 0\n",
    "        with torch.no_grad():\n",
    "            for batch in tqdm(valid_dataloader):\n",
    "                wt_ids, mut_ids, labels = batch\n",
    "                wt_ids = wt_ids.squeeze(1).to(device)\n",
    "                mut_ids = mut_ids.squeeze(1).to(device)\n",
    "                labels = labels.to(device)\n",
    "                logits = model(wt_ids, mut_ids)\n",
    "                loss = torch.nn.functional.mse_loss(logits, labels)\n",
    "                valid_loss += loss.item()\n",
    "\n",
    "        valid_loss = valid_loss / len(valid_dataloader)\n",
    "        print(f\"Valid loss epoch: {valid_loss}\")\n",
    "    return model"
   ]
  },
  {
   "cell_type": "code",
   "execution_count": 89,
   "metadata": {},
   "outputs": [],
   "source": [
    "lr = 1e-5\n",
    "EPOCHS = 3"
   ]
  },
  {
   "cell_type": "code",
   "execution_count": 90,
   "metadata": {},
   "outputs": [],
   "source": [
    "model = ESM_sum_seqembed()\n",
    "model = model.to(device)\n",
    "optimizer = torch.optim.Adam(params=model.parameters(), lr=lr)"
   ]
  },
  {
   "cell_type": "code",
   "execution_count": 91,
   "metadata": {},
   "outputs": [],
   "source": [
    "model._freeze_esm2_layers()"
   ]
  },
  {
   "cell_type": "code",
   "execution_count": 92,
   "metadata": {
    "scrolled": true
   },
   "outputs": [
    {
     "name": "stderr",
     "output_type": "stream",
     "text": [
      "100%|██████████████████████████████████████████████████████████████████████████████████████████████████| 39/39 [01:12<00:00,  1.87s/it]\n"
     ]
    },
    {
     "name": "stdout",
     "output_type": "stream",
     "text": [
      "Training loss epoch: 0.07396647811700137\n"
     ]
    },
    {
     "name": "stderr",
     "output_type": "stream",
     "text": [
      "100%|████████████████████████████████████████████████████████████████████████████████████████████████████| 9/9 [00:15<00:00,  1.71s/it]\n"
     ]
    },
    {
     "name": "stdout",
     "output_type": "stream",
     "text": [
      "Valid loss epoch: 0.06479279614157146\n"
     ]
    },
    {
     "name": "stderr",
     "output_type": "stream",
     "text": [
      "100%|██████████████████████████████████████████████████████████████████████████████████████████████████| 39/39 [01:15<00:00,  1.93s/it]\n"
     ]
    },
    {
     "name": "stdout",
     "output_type": "stream",
     "text": [
      "Training loss epoch: 0.06639366262616256\n"
     ]
    },
    {
     "name": "stderr",
     "output_type": "stream",
     "text": [
      "100%|████████████████████████████████████████████████████████████████████████████████████████████████████| 9/9 [00:15<00:00,  1.75s/it]\n"
     ]
    },
    {
     "name": "stdout",
     "output_type": "stream",
     "text": [
      "Valid loss epoch: 0.060778735412491694\n"
     ]
    },
    {
     "name": "stderr",
     "output_type": "stream",
     "text": [
      "100%|██████████████████████████████████████████████████████████████████████████████████████████████████| 39/39 [01:18<00:00,  2.01s/it]\n"
     ]
    },
    {
     "name": "stdout",
     "output_type": "stream",
     "text": [
      "Training loss epoch: 0.06367301606597045\n"
     ]
    },
    {
     "name": "stderr",
     "output_type": "stream",
     "text": [
      "100%|████████████████████████████████████████████████████████████████████████████████████████████████████| 9/9 [00:16<00:00,  1.80s/it]"
     ]
    },
    {
     "name": "stdout",
     "output_type": "stream",
     "text": [
      "Valid loss epoch: 0.0594661393099361\n"
     ]
    },
    {
     "name": "stderr",
     "output_type": "stream",
     "text": [
      "\n"
     ]
    }
   ],
   "source": [
    "model = train_eval(train_dataloader, valid_dataloader, model, EPOCHS)"
   ]
  },
  {
   "cell_type": "code",
   "execution_count": 93,
   "metadata": {},
   "outputs": [],
   "source": [
    "def collect_pred(model, valid_dataloader):\n",
    "    model.eval()\n",
    "    y_pred = []\n",
    "    y_true = []\n",
    "    for batch in tqdm(valid_dataloader):\n",
    "        wt_ids, mut_ids, labels = batch\n",
    "        wt_ids = wt_ids.squeeze(1).to(device)\n",
    "        mut_ids = mut_ids.squeeze(1).to(device)\n",
    "        labels = labels.to(device)\n",
    "        labels = labels.detach().cpu().numpy()\n",
    "        logits = model(wt_ids, mut_ids)\n",
    "        logits = logits.detach().cpu().numpy()\n",
    "        y_pred.append(logits)\n",
    "        y_true.append(labels)\n",
    "    y_pred = np.concatenate(y_pred).reshape(-1, )\n",
    "    y_true = np.concatenate(y_true).reshape(-1, )\n",
    "    return y_pred, y_true"
   ]
  },
  {
   "cell_type": "code",
   "execution_count": 94,
   "metadata": {},
   "outputs": [
    {
     "name": "stderr",
     "output_type": "stream",
     "text": [
      "100%|████████████████████████████████████████████████████████████████████████████████████████████████████| 9/9 [00:15<00:00,  1.73s/it]\n"
     ]
    }
   ],
   "source": [
    "y_pred, y_true = collect_pred(model, valid_dataloader)"
   ]
  },
  {
   "cell_type": "code",
   "execution_count": 95,
   "metadata": {},
   "outputs": [
    {
     "name": "stdout",
     "output_type": "stream",
     "text": [
      "SignificanceResult(statistic=0.5363510912165107, pvalue=2.30541164644201e-115)\n",
      "PearsonRResult(statistic=0.45927509673088246, pvalue=3.777181433178789e-81)\n"
     ]
    }
   ],
   "source": [
    "print(stats.spearmanr(y_pred, y_true))\n",
    "print(stats.pearsonr(y_pred, y_true))"
   ]
  },
  {
   "cell_type": "markdown",
   "metadata": {},
   "source": [
    "#### Test data evaluation"
   ]
  },
  {
   "cell_type": "code",
   "execution_count": 96,
   "metadata": {},
   "outputs": [],
   "source": [
    "single_test = pd.read_csv('./single_test.csv', header=None)\n",
    "multiple_test = pd.read_csv('./multiple_test.csv', header=None)"
   ]
  },
  {
   "cell_type": "code",
   "execution_count": 97,
   "metadata": {},
   "outputs": [],
   "source": [
    "#test = pd.concat([single_test, multiple_test])\n",
    "single_test.columns = [\"wt\", \"mut\", \"score\", \"pos\"]"
   ]
  },
  {
   "cell_type": "code",
   "execution_count": 98,
   "metadata": {},
   "outputs": [],
   "source": [
    "single_test.index = np.arange(0, len(single_test))"
   ]
  },
  {
   "cell_type": "code",
   "execution_count": 99,
   "metadata": {},
   "outputs": [],
   "source": [
    "test_ds = Protseq(single_test)"
   ]
  },
  {
   "cell_type": "code",
   "execution_count": 100,
   "metadata": {},
   "outputs": [],
   "source": [
    "test_dataloader = DataLoader(test_ds, batch_size=BATCH_SIZE, shuffle=False)"
   ]
  },
  {
   "cell_type": "code",
   "execution_count": 101,
   "metadata": {},
   "outputs": [
    {
     "name": "stderr",
     "output_type": "stream",
     "text": [
      "100%|████████████████████████████████████████████████████████████████████████████████████████████████████| 3/3 [00:04<00:00,  1.60s/it]\n"
     ]
    }
   ],
   "source": [
    "y_pred, y_true = collect_pred(model, test_dataloader)"
   ]
  },
  {
   "cell_type": "code",
   "execution_count": 102,
   "metadata": {},
   "outputs": [
    {
     "name": "stdout",
     "output_type": "stream",
     "text": [
      "PearsonRResult(statistic=0.46352433648499825, pvalue=1.4129390081740676e-27)\n",
      "SignificanceResult(statistic=0.472110825370124, pvalue=1.1167362818397197e-28)\n"
     ]
    }
   ],
   "source": [
    "print(stats.pearsonr(y_pred, y_true))\n",
    "print(stats.spearmanr(y_pred, y_true))"
   ]
  },
  {
   "cell_type": "code",
   "execution_count": null,
   "metadata": {},
   "outputs": [],
   "source": []
  }
 ],
 "metadata": {
  "kernelspec": {
   "display_name": "Python 3 (ipykernel)",
   "language": "python",
   "name": "python3"
  },
  "language_info": {
   "codemirror_mode": {
    "name": "ipython",
    "version": 3
   },
   "file_extension": ".py",
   "mimetype": "text/x-python",
   "name": "python",
   "nbconvert_exporter": "python",
   "pygments_lexer": "ipython3",
   "version": "3.8.10"
  }
 },
 "nbformat": 4,
 "nbformat_minor": 4
}
